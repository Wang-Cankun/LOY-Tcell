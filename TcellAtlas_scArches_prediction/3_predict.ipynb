{
 "cells": [
  {
   "cell_type": "markdown",
   "id": "35899725",
   "metadata": {},
   "source": [
    "# Querying the Atlas"
   ]
  },
  {
   "cell_type": "code",
   "execution_count": 1,
   "id": "b5ad7fbd",
   "metadata": {
    "ExecuteTime": {
     "end_time": "2023-08-06T01:49:33.455806Z",
     "start_time": "2023-08-06T01:49:27.616340Z"
    }
   },
   "outputs": [
    {
     "name": "stderr",
     "output_type": "stream",
     "text": [
      "Global seed set to 0\n"
     ]
    }
   ],
   "source": [
    "import os\n",
    "\n",
    "import warnings\n",
    "\n",
    "warnings.simplefilter(action=\"ignore\", category=FutureWarning)\n",
    "warnings.simplefilter(action=\"ignore\", category=DeprecationWarning)\n",
    "warnings.simplefilter(action=\"ignore\", category=UserWarning)\n",
    "\n",
    "import sys\n",
    "import scanpy as sc\n",
    "import numpy as np\n",
    "import pandas as pd\n",
    "import scarches as sca\n",
    "import anndata as ad\n",
    "from scipy import sparse\n",
    "import gdown\n",
    "import gzip\n",
    "import shutil\n",
    "import urllib.request\n",
    "sc.set_figure_params(figsize=(4, 4), dpi=50)\n",
    "import pynndescent\n",
    "# for white background of figures (only for docs rendering)\n",
    "%config InlineBackend.print_figure_kwargs={'facecolor' : \"w\"}\n",
    "%config InlineBackend.figure_format='retina'"
   ]
  },
  {
   "cell_type": "code",
   "execution_count": 2,
   "id": "87f443f2",
   "metadata": {
    "ExecuteTime": {
     "end_time": "2023-08-06T01:49:33.819862Z",
     "start_time": "2023-08-06T01:49:33.457601Z"
    }
   },
   "outputs": [],
   "source": [
    "path = \"/bmbl_data/cankun_notebook/loss_y/GC_sample.rds.h5ad\"\n",
    "adata = sc.read_h5ad(path)"
   ]
  },
  {
   "cell_type": "code",
   "execution_count": 3,
   "id": "576534d9",
   "metadata": {
    "ExecuteTime": {
     "end_time": "2023-08-06T01:49:34.924439Z",
     "start_time": "2023-08-06T01:49:33.821474Z"
    }
   },
   "outputs": [],
   "source": [
    "sc.pp.normalize_total(adata)\n",
    "sc.pp.log1p(adata)\n",
    "sc.pp.highly_variable_genes(\n",
    "    adata,\n",
    "    n_top_genes=2000,\n",
    "    batch_key=\"sample\",\n",
    "    subset=True)"
   ]
  },
  {
   "cell_type": "code",
   "execution_count": 4,
   "id": "592bed60",
   "metadata": {
    "ExecuteTime": {
     "end_time": "2023-08-06T01:50:00.649307Z",
     "start_time": "2023-08-06T01:49:34.926611Z"
    }
   },
   "outputs": [
    {
     "name": "stderr",
     "output_type": "stream",
     "text": [
      "OMP: Info #276: omp_set_nested routine deprecated, please use omp_set_max_active_levels instead.\n"
     ]
    }
   ],
   "source": [
    "X_train = adata.X\n",
    "ref_nn_index = pynndescent.NNDescent(X_train)\n",
    "ref_nn_index.prepare()"
   ]
  },
  {
   "cell_type": "code",
   "execution_count": 5,
   "id": "cddffc6f",
   "metadata": {
    "ExecuteTime": {
     "end_time": "2023-08-06T01:50:00.657193Z",
     "start_time": "2023-08-06T01:50:00.651829Z"
    }
   },
   "outputs": [
    {
     "data": {
      "text/plain": [
       "AnnData object with n_obs × n_vars = 1105 × 2000\n",
       "    obs: 'orig.ident', 'nCount_RNA', 'nFeature_RNA', 'scrublet_scores', 'scrublet_predict', 'sample', 'study', 'percent.mt', 'manual_doublet', 'RNA_snn_res.0.5', 'seurat_clusters', 'celltype', 'cohort', 'patient_recode', 'celltype.big', 'Gender', 'Source', 'Type', 'Age', 'Lauren.s.classification', 'Primary.site', 'MSI.status', 'H..pylori', 'Signet.ring.cell.carcinoma', 'The.WHO.classification', 'Prior.treatment', 'loy_avg', 'housekeeping_avg', 'ratio_Y_housekeeping', 'is_fLOY'\n",
       "    var: 'vst.mean', 'vst.variance', 'vst.variance.expected', 'vst.variance.standardized', 'vst.variable', 'highly_variable', 'means', 'dispersions', 'dispersions_norm', 'highly_variable_nbatches', 'highly_variable_intersection'\n",
       "    uns: 'log1p', 'hvg'\n",
       "    obsm: 'X_pca', 'X_umap'\n",
       "    varm: 'PCs'"
      ]
     },
     "execution_count": 5,
     "metadata": {},
     "output_type": "execute_result"
    }
   ],
   "source": [
    "adata"
   ]
  },
  {
   "cell_type": "markdown",
   "id": "8d13fb86",
   "metadata": {},
   "source": [
    "## Load custom query data"
   ]
  },
  {
   "cell_type": "code",
   "execution_count": 6,
   "id": "f129ed0a",
   "metadata": {
    "ExecuteTime": {
     "end_time": "2023-08-06T01:50:24.087843Z",
     "start_time": "2023-08-06T01:50:00.658658Z"
    }
   },
   "outputs": [],
   "source": [
    "query_data = sc.read_h5ad('/bmbl_data/cankun_notebook/loss_y/Seurat.merge.T.excluded.qs.h5ad')"
   ]
  },
  {
   "cell_type": "code",
   "execution_count": 7,
   "id": "c747c454",
   "metadata": {
    "ExecuteTime": {
     "end_time": "2023-08-06T01:50:24.094475Z",
     "start_time": "2023-08-06T01:50:24.090439Z"
    }
   },
   "outputs": [
    {
     "data": {
      "text/plain": [
       "AnnData object with n_obs × n_vars = 110024 × 87266\n",
       "    obs: 'orig.ident', 'nCount_RNA', 'nFeature_RNA', 'cell_name', 'sample', 'source', 'cell_type', 'cell_subtype_level1', 'cell_subtype_level2', 'malignant'\n",
       "    var: 'features'"
      ]
     },
     "execution_count": 7,
     "metadata": {},
     "output_type": "execute_result"
    }
   ],
   "source": [
    "query_data"
   ]
  },
  {
   "cell_type": "code",
   "execution_count": 8,
   "id": "f8384eaa",
   "metadata": {
    "ExecuteTime": {
     "end_time": "2023-08-06T01:50:25.418059Z",
     "start_time": "2023-08-06T01:50:24.096062Z"
    }
   },
   "outputs": [
    {
     "data": {
      "text/plain": [
       "AnnData object with n_obs × n_vars = 110024 × 2000\n",
       "    obs: 'orig.ident', 'nCount_RNA', 'nFeature_RNA', 'cell_name', 'sample', 'source', 'cell_type', 'cell_subtype_level1', 'cell_subtype_level2', 'malignant'\n",
       "    var: 'features'"
      ]
     },
     "execution_count": 8,
     "metadata": {},
     "output_type": "execute_result"
    }
   ],
   "source": [
    "query_data = query_data[:, adata.var_names].copy()\n",
    "query_data"
   ]
  },
  {
   "cell_type": "markdown",
   "id": "622dd40d",
   "metadata": {},
   "source": [
    "## (Remove this part for real data) Random subset 10k cells for example \n"
   ]
  },
  {
   "cell_type": "code",
   "execution_count": 9,
   "id": "4e9d01ea",
   "metadata": {
    "ExecuteTime": {
     "end_time": "2023-08-06T01:50:25.500113Z",
     "start_time": "2023-08-06T01:50:25.420122Z"
    }
   },
   "outputs": [],
   "source": [
    "# Randomly select 10,000 cells\n",
    "random_subset = np.random.choice(query_data.obs_names, 10000, replace=False)\n",
    "\n",
    "# Subset the AnnData object\n",
    "query_data = query_data[random_subset, :].copy()\n"
   ]
  },
  {
   "cell_type": "code",
   "execution_count": 10,
   "id": "66e09285",
   "metadata": {
    "ExecuteTime": {
     "end_time": "2023-08-06T01:50:25.505077Z",
     "start_time": "2023-08-06T01:50:25.502161Z"
    }
   },
   "outputs": [
    {
     "data": {
      "text/plain": [
       "AnnData object with n_obs × n_vars = 10000 × 2000\n",
       "    obs: 'orig.ident', 'nCount_RNA', 'nFeature_RNA', 'cell_name', 'sample', 'source', 'cell_type', 'cell_subtype_level1', 'cell_subtype_level2', 'malignant'\n",
       "    var: 'features'"
      ]
     },
     "execution_count": 10,
     "metadata": {},
     "output_type": "execute_result"
    }
   ],
   "source": [
    "query_data"
   ]
  },
  {
   "cell_type": "markdown",
   "id": "b079400c",
   "metadata": {},
   "source": [
    "## Train model"
   ]
  },
  {
   "cell_type": "code",
   "execution_count": 11,
   "id": "3be90a09",
   "metadata": {
    "ExecuteTime": {
     "end_time": "2023-08-06T01:50:29.080457Z",
     "start_time": "2023-08-06T01:50:25.506474Z"
    }
   },
   "outputs": [
    {
     "name": "stdout",
     "output_type": "stream",
     "text": [
      "\u001b[34mINFO    \u001b[0m File T_atlas_reference_model/model.pt already downloaded                            \n"
     ]
    }
   ],
   "source": [
    "ref_path = 'T_atlas_reference_model/'\n",
    "\n",
    "model = sca.models.SCVI.load_query_data(\n",
    "    query_data,\n",
    "    ref_path,\n",
    "    freeze_dropout = True,\n",
    ")"
   ]
  },
  {
   "cell_type": "code",
   "execution_count": 12,
   "id": "949d8f9b",
   "metadata": {
    "ExecuteTime": {
     "end_time": "2023-08-06T01:50:29.086442Z",
     "start_time": "2023-08-06T01:50:29.084035Z"
    }
   },
   "outputs": [],
   "source": [
    "surgery_epochs = 500\n",
    "train_kwargs_surgery = {\n",
    "    \"early_stopping\": True,\n",
    "    \"early_stopping_monitor\": \"elbo_train\",\n",
    "    \"early_stopping_patience\": 10,\n",
    "    \"early_stopping_min_delta\": 0.001,\n",
    "    \"plan_kwargs\": {\"weight_decay\": 0.0},\n",
    "}"
   ]
  },
  {
   "cell_type": "code",
   "execution_count": 13,
   "id": "ba8ea614",
   "metadata": {
    "ExecuteTime": {
     "end_time": "2023-08-06T01:56:09.909033Z",
     "start_time": "2023-08-06T01:50:29.087872Z"
    }
   },
   "outputs": [
    {
     "name": "stderr",
     "output_type": "stream",
     "text": [
      "GPU available: True, used: True\n",
      "TPU available: False, using: 0 TPU cores\n",
      "IPU available: False, using: 0 IPUs\n",
      "LOCAL_RANK: 0 - CUDA_VISIBLE_DEVICES: [0,1,2,3,4,5,6,7]\n"
     ]
    },
    {
     "name": "stdout",
     "output_type": "stream",
     "text": [
      "Epoch 500/500: 100%|██████████| 500/500 [05:40<00:00,  1.47it/s, loss=794, v_num=1]\n"
     ]
    }
   ],
   "source": [
    "model.train(\n",
    "    max_epochs=surgery_epochs,\n",
    "    **train_kwargs_surgery\n",
    ")"
   ]
  },
  {
   "cell_type": "markdown",
   "id": "fc1f9846",
   "metadata": {},
   "source": [
    "## Extract prediction from model"
   ]
  },
  {
   "cell_type": "code",
   "execution_count": 14,
   "id": "e801abd2",
   "metadata": {
    "ExecuteTime": {
     "end_time": "2023-08-06T01:56:10.028660Z",
     "start_time": "2023-08-06T01:56:09.912558Z"
    }
   },
   "outputs": [],
   "source": [
    "query_emb = sc.AnnData(model.get_latent_representation())\n",
    "query_emb.obs_names = query_data.obs_names"
   ]
  },
  {
   "cell_type": "code",
   "execution_count": 15,
   "id": "5f6f2d29",
   "metadata": {
    "ExecuteTime": {
     "end_time": "2023-08-06T01:56:14.415241Z",
     "start_time": "2023-08-06T01:56:10.030765Z"
    }
   },
   "outputs": [],
   "source": [
    "import numba\n",
    "ref_neighbors, ref_distances = ref_nn_index.query(query_emb.X)\n",
    "\n",
    "# convert distances to affinities\n",
    "stds = np.std(ref_distances, axis=1)\n",
    "stds = (2.0 / stds) ** 2\n",
    "stds = stds.reshape(-1, 1)\n",
    "ref_distances_tilda = np.exp(-np.true_divide(ref_distances, stds))\n",
    "weights = ref_distances_tilda / np.sum(\n",
    "    ref_distances_tilda, axis=1, keepdims=True\n",
    ")\n",
    "\n",
    "@numba.njit\n",
    "def weighted_prediction(weights, ref_cats):\n",
    "    \"\"\"Get highest weight category.\"\"\"\n",
    "    N = len(weights)\n",
    "    predictions = np.zeros((N,), dtype=ref_cats.dtype)\n",
    "    uncertainty = np.zeros((N,))\n",
    "    for i in range(N):\n",
    "        obs_weights = weights[i]\n",
    "        obs_cats = ref_cats[i]\n",
    "        best_prob = 0\n",
    "        for c in np.unique(obs_cats):\n",
    "            cand_prob = np.sum(obs_weights[obs_cats == c])\n",
    "            if cand_prob > best_prob:\n",
    "                best_prob = cand_prob\n",
    "                predictions[i] = c\n",
    "                uncertainty[i] = max(1 - best_prob, 0)\n",
    "\n",
    "    return predictions, uncertainty\n",
    "\n",
    "# for each annotation level, get prediction and uncertainty\n",
    "label_keys =  [\"celltype\"]\n",
    "for l in label_keys:\n",
    "    ref_cats = adata.obs[l].cat.codes.to_numpy()[ref_neighbors]\n",
    "    p, u = weighted_prediction(weights, ref_cats)\n",
    "    p = np.asarray(adata.obs[l].cat.categories)[p]\n",
    "    query_emb.obs[l + \"_pred\"], query_emb.obs[l + \"_uncertainty\"] = p, u\n"
   ]
  },
  {
   "cell_type": "code",
   "execution_count": 17,
   "id": "fdac5319",
   "metadata": {
    "ExecuteTime": {
     "end_time": "2023-08-06T01:56:29.089323Z",
     "start_time": "2023-08-06T01:56:29.084453Z"
    }
   },
   "outputs": [
    {
     "name": "stdout",
     "output_type": "stream",
     "text": [
      "CD8_C2    9997\n",
      "CD4_C4       3\n",
      "Name: celltype_pred, dtype: int64\n"
     ]
    }
   ],
   "source": [
    "frequency = query_emb.obs['celltype_pred'].value_counts()\n",
    "print(frequency)\n"
   ]
  },
  {
   "cell_type": "code",
   "execution_count": 18,
   "id": "f798e875",
   "metadata": {
    "ExecuteTime": {
     "end_time": "2023-08-06T01:56:47.561807Z",
     "start_time": "2023-08-06T01:56:47.552432Z"
    }
   },
   "outputs": [
    {
     "data": {
      "text/html": [
       "<div>\n",
       "<style scoped>\n",
       "    .dataframe tbody tr th:only-of-type {\n",
       "        vertical-align: middle;\n",
       "    }\n",
       "\n",
       "    .dataframe tbody tr th {\n",
       "        vertical-align: top;\n",
       "    }\n",
       "\n",
       "    .dataframe thead th {\n",
       "        text-align: right;\n",
       "    }\n",
       "</style>\n",
       "<table border=\"1\" class=\"dataframe\">\n",
       "  <thead>\n",
       "    <tr style=\"text-align: right;\">\n",
       "      <th></th>\n",
       "      <th>celltype_pred</th>\n",
       "      <th>celltype_uncertainty</th>\n",
       "    </tr>\n",
       "  </thead>\n",
       "  <tbody>\n",
       "    <tr>\n",
       "      <th>SMC07-T_CATTATCTCCCAACGG_1</th>\n",
       "      <td>CD8_C2</td>\n",
       "      <td>0.699972</td>\n",
       "    </tr>\n",
       "    <tr>\n",
       "      <th>P08_T_0860_1</th>\n",
       "      <td>CD8_C2</td>\n",
       "      <td>0.699965</td>\n",
       "    </tr>\n",
       "    <tr>\n",
       "      <th>SSN09_SSN_CACACTCCAAGAAAGG_2</th>\n",
       "      <td>CD8_C2</td>\n",
       "      <td>0.699973</td>\n",
       "    </tr>\n",
       "    <tr>\n",
       "      <th>ACGTTGAAAGTTCCAGAC_10367_2</th>\n",
       "      <td>CD8_C2</td>\n",
       "      <td>0.699981</td>\n",
       "    </tr>\n",
       "    <tr>\n",
       "      <th>P14_GTTCATTCAGCCTATA-1_1</th>\n",
       "      <td>CD8_C2</td>\n",
       "      <td>0.699972</td>\n",
       "    </tr>\n",
       "    <tr>\n",
       "      <th>...</th>\n",
       "      <td>...</td>\n",
       "      <td>...</td>\n",
       "    </tr>\n",
       "    <tr>\n",
       "      <th>P11_T_0216_1</th>\n",
       "      <td>CD8_C2</td>\n",
       "      <td>0.699965</td>\n",
       "    </tr>\n",
       "    <tr>\n",
       "      <th>SSN12_SSN_TTCTCAAGTGGTCCGT_2</th>\n",
       "      <td>CD8_C2</td>\n",
       "      <td>0.699965</td>\n",
       "    </tr>\n",
       "    <tr>\n",
       "      <th>SSN28_SSN_GCACATAGTCCGTTAA_2</th>\n",
       "      <td>CD8_C2</td>\n",
       "      <td>0.699960</td>\n",
       "    </tr>\n",
       "    <tr>\n",
       "      <th>sc5rJUQ050_GCAATCACAGGATTGG_2</th>\n",
       "      <td>CD8_C2</td>\n",
       "      <td>0.699963</td>\n",
       "    </tr>\n",
       "    <tr>\n",
       "      <th>P02_ATCTGCCTCTCGTATT-1_1</th>\n",
       "      <td>CD8_C2</td>\n",
       "      <td>0.699968</td>\n",
       "    </tr>\n",
       "  </tbody>\n",
       "</table>\n",
       "<p>10000 rows × 2 columns</p>\n",
       "</div>"
      ],
      "text/plain": [
       "                              celltype_pred  celltype_uncertainty\n",
       "SMC07-T_CATTATCTCCCAACGG_1           CD8_C2              0.699972\n",
       "P08_T_0860_1                         CD8_C2              0.699965\n",
       "SSN09_SSN_CACACTCCAAGAAAGG_2         CD8_C2              0.699973\n",
       "ACGTTGAAAGTTCCAGAC_10367_2           CD8_C2              0.699981\n",
       "P14_GTTCATTCAGCCTATA-1_1             CD8_C2              0.699972\n",
       "...                                     ...                   ...\n",
       "P11_T_0216_1                         CD8_C2              0.699965\n",
       "SSN12_SSN_TTCTCAAGTGGTCCGT_2         CD8_C2              0.699965\n",
       "SSN28_SSN_GCACATAGTCCGTTAA_2         CD8_C2              0.699960\n",
       "sc5rJUQ050_GCAATCACAGGATTGG_2        CD8_C2              0.699963\n",
       "P02_ATCTGCCTCTCGTATT-1_1             CD8_C2              0.699968\n",
       "\n",
       "[10000 rows x 2 columns]"
      ]
     },
     "execution_count": 18,
     "metadata": {},
     "output_type": "execute_result"
    }
   ],
   "source": [
    "query_emb.obs"
   ]
  },
  {
   "cell_type": "markdown",
   "id": "c9591473",
   "metadata": {},
   "source": [
    "## Optional: Set the celltype_pred to Unknown if prediction larger than uncertainty_threshold. Modify the uncertainty_threshold if needed (default=0.2)"
   ]
  },
  {
   "cell_type": "code",
   "execution_count": null,
   "id": "79081960",
   "metadata": {
    "ExecuteTime": {
     "end_time": "2023-08-06T01:56:14.780693Z",
     "start_time": "2023-08-06T01:56:14.780684Z"
    }
   },
   "outputs": [],
   "source": [
    "uncertainty_threshold =  0.2\n",
    "for l in label_keys:\n",
    "    mask = query_emb.obs[l + \"_uncertainty\"] > uncertainty_threshold\n",
    "    print(f\"{l}: {sum(mask)/len(mask)} unknown\")\n",
    "    query_emb.obs[l + \"_pred\"].loc[mask] = \"Unknown\"\n",
    "query_emb.obs[\"dataset\"] = \"test_dataset_TcellAtlas\""
   ]
  },
  {
   "cell_type": "markdown",
   "id": "74d070d6",
   "metadata": {},
   "source": [
    "## Save results"
   ]
  },
  {
   "cell_type": "code",
   "execution_count": 19,
   "id": "1facedcb",
   "metadata": {
    "ExecuteTime": {
     "end_time": "2023-08-06T01:57:01.532735Z",
     "start_time": "2023-08-06T01:57:01.502882Z"
    }
   },
   "outputs": [],
   "source": [
    "# Save embedding and object\n",
    "query_emb.obs.to_csv('./TcellAtlas_query_emb_full.csv')"
   ]
  },
  {
   "cell_type": "code",
   "execution_count": null,
   "id": "a8dfab54",
   "metadata": {},
   "outputs": [],
   "source": []
  }
 ],
 "metadata": {
  "kernelspec": {
   "display_name": "Environment (test_scvi16_cuda113)",
   "language": "python",
   "name": "test_scvi16_cuda113"
  },
  "language_info": {
   "codemirror_mode": {
    "name": "ipython",
    "version": 3
   },
   "file_extension": ".py",
   "mimetype": "text/x-python",
   "name": "python",
   "nbconvert_exporter": "python",
   "pygments_lexer": "ipython3",
   "version": "3.9.12"
  },
  "varInspector": {
   "cols": {
    "lenName": 16,
    "lenType": 16,
    "lenVar": 40
   },
   "kernels_config": {
    "python": {
     "delete_cmd_postfix": "",
     "delete_cmd_prefix": "del ",
     "library": "var_list.py",
     "varRefreshCmd": "print(var_dic_list())"
    },
    "r": {
     "delete_cmd_postfix": ") ",
     "delete_cmd_prefix": "rm(",
     "library": "var_list.r",
     "varRefreshCmd": "cat(var_dic_list()) "
    }
   },
   "types_to_exclude": [
    "module",
    "function",
    "builtin_function_or_method",
    "instance",
    "_Feature"
   ],
   "window_display": false
  }
 },
 "nbformat": 4,
 "nbformat_minor": 5
}
