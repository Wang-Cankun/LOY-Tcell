{
 "cells": [
  {
   "cell_type": "code",
   "execution_count": 14,
   "id": "ae8d9de0",
   "metadata": {
    "ExecuteTime": {
     "end_time": "2023-09-06T16:33:10.535839Z",
     "start_time": "2023-09-06T16:33:10.533339Z"
    }
   },
   "outputs": [],
   "source": [
    "import scanpy as sc\n",
    "# pip install symphonypy\n",
    "import symphonypy as sp\n",
    "import pandas as pd\n"
   ]
  },
  {
   "cell_type": "code",
   "execution_count": 11,
   "id": "87f443f2",
   "metadata": {
    "ExecuteTime": {
     "end_time": "2023-09-06T16:31:19.759310Z",
     "start_time": "2023-09-06T16:31:19.749486Z"
    }
   },
   "outputs": [],
   "source": [
    "# path settings\n",
    "atlas_path = \"/bmbl_data/cankun_notebook/loss_y/GC_sample.rds.h5ad\"\n",
    "query_path = \"/bmbl_data/cankun_notebook/loss_y/Final_seurat_object.qs.h5ad\"\n",
    "query_path = \"/bmbl_data/cankun_notebook/loss_y/Final_seurat_object.small.h5ad\"\n",
    "clusters_to_transfer = 'celltype'\n",
    "atlas_batch_key = 'sample' # Change to 'batch' ?\n",
    "\n",
    "output_label = \"/bmbl_data/cankun_notebook/SymphonyPy_Labels.csv\""
   ]
  },
  {
   "cell_type": "code",
   "execution_count": 3,
   "id": "82d4511a",
   "metadata": {
    "ExecuteTime": {
     "end_time": "2023-09-06T16:29:49.608217Z",
     "start_time": "2023-09-06T16:29:43.629718Z"
    }
   },
   "outputs": [],
   "source": [
    "adata_ref = sc.read_h5ad(atlas_path)\n",
    "adata_query = sc.read_h5ad(query_path)"
   ]
  },
  {
   "cell_type": "code",
   "execution_count": 4,
   "id": "f3b3a92c",
   "metadata": {
    "ExecuteTime": {
     "end_time": "2023-09-06T16:29:49.620188Z",
     "start_time": "2023-09-06T16:29:49.612315Z"
    }
   },
   "outputs": [
    {
     "data": {
      "text/plain": [
       "AnnData object with n_obs × n_vars = 1105 × 27176\n",
       "    obs: 'orig.ident', 'nCount_RNA', 'nFeature_RNA', 'scrublet_scores', 'scrublet_predict', 'sample', 'study', 'percent.mt', 'manual_doublet', 'RNA_snn_res.0.5', 'seurat_clusters', 'celltype', 'cohort', 'patient_recode', 'celltype.big', 'Gender', 'Source', 'Type', 'Age', 'Lauren.s.classification', 'Primary.site', 'MSI.status', 'H..pylori', 'Signet.ring.cell.carcinoma', 'The.WHO.classification', 'Prior.treatment', 'loy_avg', 'housekeeping_avg', 'ratio_Y_housekeeping', 'is_fLOY'\n",
       "    var: 'vst.mean', 'vst.variance', 'vst.variance.expected', 'vst.variance.standardized', 'vst.variable'\n",
       "    obsm: 'X_pca', 'X_umap'\n",
       "    varm: 'PCs'"
      ]
     },
     "execution_count": 4,
     "metadata": {},
     "output_type": "execute_result"
    }
   ],
   "source": [
    "adata_ref"
   ]
  },
  {
   "cell_type": "markdown",
   "id": "833b4352",
   "metadata": {},
   "source": [
    "# Step 1: Reference building"
   ]
  },
  {
   "cell_type": "code",
   "execution_count": 5,
   "id": "cea27ad2",
   "metadata": {
    "ExecuteTime": {
     "end_time": "2023-09-06T16:29:53.681008Z",
     "start_time": "2023-09-06T16:29:49.622483Z"
    }
   },
   "outputs": [
    {
     "name": "stderr",
     "output_type": "stream",
     "text": [
      "/home/wan268/.conda/envs/test_scvi16_cuda113/lib/python3.9/site-packages/scanpy/preprocessing/_simple.py:843: UserWarning: Received a view of an AnnData. Making a copy.\n",
      "  view_to_actual(adata)\n",
      "/home/wan268/.conda/envs/test_scvi16_cuda113/lib/python3.9/site-packages/scanpy/preprocessing/_simple.py:843: FutureWarning: X.dtype being converted to np.float32 from float64. In the next version of anndata (0.9) conversion will not be automatic. Pass dtype explicitly to avoid this warning. Pass `AnnData(X, dtype=X.dtype, ...)` to get the future behavour.\n",
      "  view_to_actual(adata)\n",
      "2023-09-06 12:29:51,472 - harmonypy - INFO - Computing initial centroids with sklearn.KMeans...\n",
      "2023-09-06 12:29:52,743 - harmonypy - INFO - sklearn.KMeans initialization complete.\n"
     ]
    }
   ],
   "source": [
    "#sc.pp.normalize_total(adata_ref, target_sum=1e5)\n",
    "sc.pp.log1p(adata_ref)\n",
    "sc.pp.highly_variable_genes(\n",
    "    adata_ref,\n",
    "    batch_key=atlas_batch_key,\n",
    "    n_top_genes=2000,\n",
    ")\n",
    "adata_ref.raw = adata_ref\n",
    "adata_ref = adata_ref[:, adata_ref.var.highly_variable]\n",
    "sc.pp.scale(adata_ref, max_value=10)\n",
    "sc.pp.pca(adata_ref, n_comps=30, zero_center=False)\n",
    "\n",
    "# You can skip Harmony if you have only one batch in reference\n",
    "sp.pp.harmony_integrate(adata_ref, key=atlas_batch_key)  \n",
    "# -> adata_ref.obsm[\"X_pca_harmony\"] <- Harmony adjusted \"X_pca\"\n",
    "# -> adata_ref.uns[\"harmony\"] <- Harmony object for Symphony"
   ]
  },
  {
   "cell_type": "markdown",
   "id": "c5e58f9b",
   "metadata": {},
   "source": [
    "# Step 2: Query preprocessing and Symphony"
   ]
  },
  {
   "cell_type": "code",
   "execution_count": 6,
   "id": "902a3b6f",
   "metadata": {
    "ExecuteTime": {
     "end_time": "2023-09-06T16:30:06.155661Z",
     "start_time": "2023-09-06T16:29:53.684552Z"
    }
   },
   "outputs": [
    {
     "name": "stderr",
     "output_type": "stream",
     "text": [
      "/home/wan268/.conda/envs/test_scvi16_cuda113/lib/python3.9/site-packages/symphonypy/tools.py:330: UserWarning: Gene expressions in adata_query should be log1p-transformed\n",
      "  warnings.warn(\"Gene expressions in adata_query should be log1p-transformed\")\n",
      "82 out of 2000 genes from the reference are missing in the query dataset or have zero std in the reference, their expressions in the query will be set to zero\n"
     ]
    }
   ],
   "source": [
    "# Symphony\n",
    "sp.tl.map_embedding(adata_query, adata_ref, key=atlas_batch_key)\n",
    "# -> adata_query.obsm[\"X_pca_harmony\"] <- Symphony adjusted query's PCA\n",
    "sp.tl.per_cell_confidence(adata_query, adata_ref)\n",
    "# -> adata_query.obs[\"symphony_per_cell_dist\"] <- Symphony mapping score per cell"
   ]
  },
  {
   "cell_type": "markdown",
   "id": "205de7d1",
   "metadata": {},
   "source": [
    "# Step 3: Label transfer\n"
   ]
  },
  {
   "cell_type": "code",
   "execution_count": 7,
   "id": "caa0c347",
   "metadata": {
    "ExecuteTime": {
     "end_time": "2023-09-06T16:30:06.390903Z",
     "start_time": "2023-09-06T16:30:06.158057Z"
    }
   },
   "outputs": [],
   "source": [
    "sp.tl.transfer_labels_kNN(adata_query, adata_ref, clusters_to_transfer)\n"
   ]
  },
  {
   "cell_type": "markdown",
   "id": "91e70772",
   "metadata": {},
   "source": [
    "# Step 4: Transfer Atlas's UMAP into Query Data"
   ]
  },
  {
   "cell_type": "code",
   "execution_count": 8,
   "id": "68c9211f",
   "metadata": {
    "ExecuteTime": {
     "end_time": "2023-09-06T16:30:59.939535Z",
     "start_time": "2023-09-06T16:30:06.392773Z"
    }
   },
   "outputs": [],
   "source": [
    "sc.pp.neighbors(adata_ref, use_rep=\"X_pca_harmony\")\n",
    "sc.tl.umap(adata_ref)\n",
    "sp.tl.ingest(adata_query, adata_ref)\n",
    "# -> adata_query.obsm[\"X_umap\"] <- mapped to the reference's UMAP coords"
   ]
  },
  {
   "cell_type": "markdown",
   "id": "43525637",
   "metadata": {},
   "source": [
    "# Step 5: save output labels and send to Yuzhou/Cankun"
   ]
  },
  {
   "cell_type": "code",
   "execution_count": 15,
   "id": "70375703",
   "metadata": {
    "ExecuteTime": {
     "end_time": "2023-09-06T16:33:13.076107Z",
     "start_time": "2023-09-06T16:33:12.847281Z"
    }
   },
   "outputs": [],
   "source": [
    "umap_df = pd.DataFrame(adata_query.obsm[\"X_umap\"], columns=[\"UMAP1\", \"UMAP2\"], index=adata_query.obs.index)\n",
    "\n",
    "# Add the 'celltype' column to this DataFrame\n",
    "umap_df[clusters_to_transfer] = adata_query.obs[clusters_to_transfer]\n",
    "\n",
    "# Save the DataFrame to a CSV file\n",
    "umap_df.to_csv(output_label)\n"
   ]
  },
  {
   "cell_type": "code",
   "execution_count": null,
   "id": "be529c97",
   "metadata": {},
   "outputs": [],
   "source": []
  },
  {
   "cell_type": "code",
   "execution_count": null,
   "id": "f0ef768b",
   "metadata": {},
   "outputs": [],
   "source": []
  }
 ],
 "metadata": {
  "kernelspec": {
   "display_name": "Environment (test_scvi16_cuda113)",
   "language": "python",
   "name": "test_scvi16_cuda113"
  },
  "language_info": {
   "codemirror_mode": {
    "name": "ipython",
    "version": 3
   },
   "file_extension": ".py",
   "mimetype": "text/x-python",
   "name": "python",
   "nbconvert_exporter": "python",
   "pygments_lexer": "ipython3",
   "version": "3.9.12"
  },
  "varInspector": {
   "cols": {
    "lenName": 16,
    "lenType": 16,
    "lenVar": 40
   },
   "kernels_config": {
    "python": {
     "delete_cmd_postfix": "",
     "delete_cmd_prefix": "del ",
     "library": "var_list.py",
     "varRefreshCmd": "print(var_dic_list())"
    },
    "r": {
     "delete_cmd_postfix": ") ",
     "delete_cmd_prefix": "rm(",
     "library": "var_list.r",
     "varRefreshCmd": "cat(var_dic_list()) "
    }
   },
   "types_to_exclude": [
    "module",
    "function",
    "builtin_function_or_method",
    "instance",
    "_Feature"
   ],
   "window_display": false
  }
 },
 "nbformat": 4,
 "nbformat_minor": 5
}
